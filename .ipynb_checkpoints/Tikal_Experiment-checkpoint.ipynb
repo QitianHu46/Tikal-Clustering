{
 "cells": [
  {
   "cell_type": "code",
   "execution_count": 1,
   "metadata": {},
   "outputs": [],
   "source": [
    "import numpy as np\n",
    "import fiona\n",
    "from shapely.geometry import Point, Polygon, MultiPoint, MultiPolygon, shape, LineString"
   ]
  },
  {
   "cell_type": "code",
   "execution_count": 48,
   "metadata": {},
   "outputs": [],
   "source": [
    "sf_map = fiona.open('Data/Small_Features/Small_Features.shp')"
   ]
  },
  {
   "cell_type": "code",
   "execution_count": 49,
   "metadata": {},
   "outputs": [
    {
     "data": {
      "text/plain": [
       "824"
      ]
     },
     "execution_count": 49,
     "metadata": {},
     "output_type": "execute_result"
    }
   ],
   "source": [
    "len(Map)"
   ]
  },
  {
   "cell_type": "code",
   "execution_count": 50,
   "metadata": {},
   "outputs": [],
   "source": [
    "smallFeatures = []\n",
    "for i in range(len(Point_Map)):\n",
    "    Points.append(list(Map[i]['geometry']['coordinates']))"
   ]
  },
  {
   "cell_type": "code",
   "execution_count": 51,
   "metadata": {},
   "outputs": [],
   "source": [
    "import matplotlib.pyplot as plt"
   ]
  },
  {
   "cell_type": "code",
   "execution_count": 52,
   "metadata": {},
   "outputs": [
    {
     "data": {
      "image/png": "[encoded data removed]",
      "text/plain": [
       "<Figure size 504x504 with 1 Axes>"
      ]
     },
     "metadata": {},
     "output_type": "display_data"
    }
   ],
   "source": [
    "fig = plt.figure(figsize = (7, 7), facecolor = '.6')\n",
    "for i in range(len(Points)):\n",
    "    plt.scatter(Points[i][0], Points[i][1], c = 'b', s = 1)"
   ]
  },
  {
   "cell_type": "code",
   "execution_count": 53,
   "metadata": {},
   "outputs": [],
   "source": [
    "res_pltf_map = fiona.open('Data/Res_Str/Tikal_res_pltfm_grp_poly.shp')"
   ]
  },
  {
   "cell_type": "code",
   "execution_count": 54,
   "metadata": {},
   "outputs": [
    {
     "data": {
      "text/plain": [
       "756"
      ]
     },
     "execution_count": 54,
     "metadata": {},
     "output_type": "execute_result"
    }
   ],
   "source": [
    "len(res_pltf_map)"
   ]
  },
  {
   "cell_type": "code",
   "execution_count": 56,
   "metadata": {},
   "outputs": [
    {
     "data": {
      "text/plain": [
       "dict"
      ]
     },
     "execution_count": 56,
     "metadata": {},
     "output_type": "execute_result"
    }
   ],
   "source": [
    "type(res_pltf_map[1])"
   ]
  },
  {
   "cell_type": "code",
   "execution_count": 62,
   "metadata": {},
   "outputs": [
    {
     "data": {
      "text/plain": [
       "{'type': 'Feature',\n",
       " 'id': '112',\n",
       " 'properties': OrderedDict([('Plaza_Plan', 'PP2'),\n",
       "              ('Class_Type', 'FG'),\n",
       "              ('SHAPE_Area', 819.32695055),\n",
       "              ('Status3Abo', 'Low')]),\n",
       " 'geometry': {'type': 'Polygon',\n",
       "  'coordinates': [[(538434.8225747906, 799516.2367247939),\n",
       "    (538451.632558804, 799515.9295247942),\n",
       "    (538461.194670815, 799503.7459727824),\n",
       "    (538459.8061268143, 799497.2681487761),\n",
       "    (538458.2209748104, 799497.1391247753),\n",
       "    (538457.6086228117, 799493.4998287726),\n",
       "    (538453.184942808, 799487.2370447665),\n",
       "    (538444.5055187978, 799486.7270927653),\n",
       "    (538442.6336467974, 799485.1378447656),\n",
       "    (538438.8899027929, 799484.8552207649),\n",
       "    (538434.3515347876, 799490.6408207696),\n",
       "    (538427.4313427843, 799491.4333967697),\n",
       "    (538428.1215187833, 799513.0541327912),\n",
       "    (538435.0294227898, 799514.2133007925),\n",
       "    (538434.8225747906, 799516.2367247939)]]}}"
      ]
     },
     "execution_count": 62,
     "metadata": {},
     "output_type": "execute_result"
    }
   ],
   "source": [
    "res_pltf_map[112]"
   ]
  },
  {
   "cell_type": "code",
   "execution_count": 63,
   "metadata": {},
   "outputs": [],
   "source": [
    "res_str_map = fiona.open('Data/Res_Str/Tikal_res_str_poly.shp')"
   ]
  },
  {
   "cell_type": "code",
   "execution_count": 64,
   "metadata": {},
   "outputs": [
    {
     "data": {
      "text/plain": [
       "1782"
      ]
     },
     "execution_count": 64,
     "metadata": {},
     "output_type": "execute_result"
    }
   ],
   "source": [
    "len(res_str_map)"
   ]
  },
  {
   "cell_type": "code",
   "execution_count": 65,
   "metadata": {},
   "outputs": [
    {
     "data": {
      "text/plain": [
       "{'type': 'Feature',\n",
       " 'id': '43',\n",
       " 'properties': OrderedDict([('OBJECTID', 47),\n",
       "              ('SHAPE_Leng', 65.6843344136),\n",
       "              ('SHAPE_Area', 193.510005574)]),\n",
       " 'geometry': {'type': 'Polygon',\n",
       "  'coordinates': [[(538113.4872784913, 797728.8467711285),\n",
       "    (538121.0075344965, 797728.7607551292),\n",
       "    (538121.0075344965, 797703.6584191062),\n",
       "    (538113.1370704919, 797703.6584191062),\n",
       "    (538113.4872784913, 797728.8467711285)]]}}"
      ]
     },
     "execution_count": 65,
     "metadata": {},
     "output_type": "execute_result"
    }
   ],
   "source": [
    "res_str_map[43]"
   ]
  },
  {
   "cell_type": "code",
   "execution_count": 68,
   "metadata": {},
   "outputs": [],
   "source": [
    "neighboorhood_map = fiona.open('Data/Neighborhoods/Neighborhoods_poly.shp')"
   ]
  },
  {
   "cell_type": "code",
   "execution_count": 69,
   "metadata": {},
   "outputs": [
    {
     "data": {
      "text/plain": [
       "18"
      ]
     },
     "execution_count": 69,
     "metadata": {},
     "output_type": "execute_result"
    }
   ],
   "source": [
    "len(neighboorhood_map)"
   ]
  },
  {
   "cell_type": "code",
   "execution_count": 73,
   "metadata": {},
   "outputs": [
    {
     "data": {
      "image/svg+xml": [
       "<svg xmlns=\"http://www.w3.org/2000/svg\" xmlns:xlink=\"http://www.w3.org/1999/xlink\" width=\"107.42906890250742\" height=\"100.0\" viewBox=\"538005.7444559885 799694.8555025598 107.42906890250742 66.69434886239469\" preserveAspectRatio=\"xMinYMin meet\"><g transform=\"matrix(1,0,0,-1,0,1599456.405353982)\"><path fill-rule=\"evenodd\" fill=\"#66cc99\" stroke=\"#555555\" stroke-width=\"2.0\" opacity=\"0.6\" d=\"M 538009.7233103923,799748.3754770104 L 538048.9384144321,799757.5709970184 L 538072.0500944518,799744.4842770062 L 538106.6592464857,799751.3450770117 L 538109.1946704872,799736.4274449982 L 538103.3763024807,799711.2165649757 L 538103.8248144798,799701.9677969664 L 538079.6584144607,799698.8343569636 L 538064.8882384449,799713.3055249769 L 538035.7984464169,799724.6432529874 L 538025.208238408,799732.2515729945 L 538020.2725584023,799736.204212999 L 538011.888046395,799734.5821969975 L 538009.7233103923,799748.3754770104 z\" /></g></svg>"
      ],
      "text/plain": [
       "<shapely.geometry.polygon.Polygon at 0x121483860>"
      ]
     },
     "execution_count": 73,
     "metadata": {},
     "output_type": "execute_result"
    }
   ],
   "source": [
    "Polygon(shape(res_pltf_map[3]['geometry']))"
   ]
  },
  {
   "cell_type": "code",
   "execution_count": 107,
   "metadata": {},
   "outputs": [],
   "source": [
    "test = [i[0] for i in res_pltf_map[3]['geometry']['coordinates'][0]]"
   ]
  },
  {
   "cell_type": "code",
   "execution_count": 110,
   "metadata": {},
   "outputs": [
    {
     "data": {
      "text/plain": [
       "538109.1946704872"
      ]
     },
     "execution_count": 110,
     "metadata": {},
     "output_type": "execute_result"
    }
   ],
   "source": [
    "max(test)"
   ]
  },
  {
   "cell_type": "code",
   "execution_count": null,
   "metadata": {},
   "outputs": [],
   "source": []
  },
  {
   "cell_type": "code",
   "execution_count": null,
   "metadata": {},
   "outputs": [],
   "source": []
  },
  {
   "cell_type": "code",
   "execution_count": null,
   "metadata": {},
   "outputs": [],
   "source": []
  },
  {
   "cell_type": "code",
   "execution_count": 75,
   "metadata": {},
   "outputs": [],
   "source": [
    "from matplotlib import pyplot as plt\n",
    "from descartes import PolygonPatch"
   ]
  },
  {
   "cell_type": "code",
   "execution_count": 82,
   "metadata": {},
   "outputs": [
    {
     "data": {
      "image/png": "[encoded data removed]",
      "text/plain": [
       "<Figure size 1050x1050 with 1 Axes>"
      ]
     },
     "metadata": {
      "needs_background": "light"
     },
     "output_type": "display_data"
    }
   ],
   "source": [
    "fig = plt.figure(1, figsize=(7,7), dpi=150)\n",
    "# ring_mixed = Polygon([(0, 0), (0, 2), (1, 1),\n",
    "#     (2, 2), (2, 0), (1, 0.8), (0, 0)])\n",
    "ax = fig.add_subplot(111)\n",
    "# ring_patch = PolygonPatch(ring_mixed)\n",
    "ax.add_patch(PolygonPatch(Polygon(shape(res_pltf_map[3]['geometry']))))\n",
    "\n",
    "plt.show()"
   ]
  },
  {
   "cell_type": "code",
   "execution_count": null,
   "metadata": {},
   "outputs": [],
   "source": []
  },
  {
   "cell_type": "code",
   "execution_count": null,
   "metadata": {},
   "outputs": [],
   "source": []
  },
  {
   "cell_type": "code",
   "execution_count": null,
   "metadata": {},
   "outputs": [],
   "source": []
  },
  {
   "cell_type": "code",
   "execution_count": 111,
   "metadata": {},
   "outputs": [
    {
     "data": {
      "image/png": "[encoded data removed]",
      "text/plain": [
       "<Figure size 450x450 with 1 Axes>"
      ]
     },
     "metadata": {},
     "output_type": "display_data"
    }
   ],
   "source": [
    "import numpy as np\n",
    "fig = plt.figure(1, figsize=(5,5), dpi=90, facecolor = '.6' )\n",
    "ring_mixed = Polygon(shape(res_pltf_map[3]['geometry']))\n",
    "\n",
    "ax = fig.add_subplot(111)\n",
    "ring_patch = PolygonPatch(ring_mixed)\n",
    "ax.add_patch(ring_patch)\n",
    "\n",
    "ax.set_title('General Polygon')\n",
    "xrange = [-1, 3]\n",
    "yrange = [-1, 3]\n",
    "ax.set_xlim(*xrange)\n",
    "# # ax.set_xticks(range(*xrange) + [xrange[-1]])\n",
    "ax.set_ylim(*yrange)\n",
    "# ax.set_yticks(range(*yrange) + [yrange[-1]])\n",
    "ax.set_aspect(1)\n"
   ]
  },
  {
   "cell_type": "code",
   "execution_count": null,
   "metadata": {},
   "outputs": [],
   "source": []
  },
  {
   "cell_type": "code",
   "execution_count": null,
   "metadata": {},
   "outputs": [],
   "source": []
  },
  {
   "cell_type": "code",
   "execution_count": 87,
   "metadata": {},
   "outputs": [
    {
     "data": {
      "image/svg+xml": [
       "<svg xmlns=\"http://www.w3.org/2000/svg\" xmlns:xlink=\"http://www.w3.org/1999/xlink\" width=\"107.42906890250742\" height=\"100.0\" viewBox=\"538005.7444559885 799694.8555025598 107.42906890250742 66.69434886239469\" preserveAspectRatio=\"xMinYMin meet\"><g transform=\"matrix(1,0,0,-1,0,1599456.405353982)\"><path fill-rule=\"evenodd\" fill=\"#66cc99\" stroke=\"#555555\" stroke-width=\"2.0\" opacity=\"0.6\" d=\"M 538009.7233103923,799748.3754770104 L 538048.9384144321,799757.5709970184 L 538072.0500944518,799744.4842770062 L 538106.6592464857,799751.3450770117 L 538109.1946704872,799736.4274449982 L 538103.3763024807,799711.2165649757 L 538103.8248144798,799701.9677969664 L 538079.6584144607,799698.8343569636 L 538064.8882384449,799713.3055249769 L 538035.7984464169,799724.6432529874 L 538025.208238408,799732.2515729945 L 538020.2725584023,799736.204212999 L 538011.888046395,799734.5821969975 L 538009.7233103923,799748.3754770104 z\" /></g></svg>"
      ],
      "text/plain": [
       "<shapely.geometry.polygon.Polygon at 0x11e44b9e8>"
      ]
     },
     "execution_count": 87,
     "metadata": {},
     "output_type": "execute_result"
    }
   ],
   "source": [
    "Polygon(shape(res_pltf_map[3]['geometry']))"
   ]
  },
  {
   "cell_type": "code",
   "execution_count": 94,
   "metadata": {},
   "outputs": [
    {
     "data": {
      "image/svg+xml": [
       "<svg xmlns=\"http://www.w3.org/2000/svg\" xmlns:xlink=\"http://www.w3.org/1999/xlink\" width=\"100.0\" height=\"100.0\" viewBox=\"-0.08 -0.08 2.16 2.16\" preserveAspectRatio=\"xMinYMin meet\"><g transform=\"matrix(1,0,0,-1,0,2.0)\"><path fill-rule=\"evenodd\" fill=\"#66cc99\" stroke=\"#555555\" stroke-width=\"0.0432\" opacity=\"0.6\" d=\"M 0.0,0.0 L 0.0,2.0 L 1.0,1.0 L 2.0,2.0 L 2.0,0.0 L 1.0,0.8 L 0.0,0.0 z\" /></g></svg>"
      ],
      "text/plain": [
       "<shapely.geometry.polygon.Polygon at 0x1213e4240>"
      ]
     },
     "execution_count": 94,
     "metadata": {},
     "output_type": "execute_result"
    }
   ],
   "source": [
    "Polygon([(0, 0), (0, 2), (1, 1),\n",
    "    (2, 2), (2, 0), (1, 0.8), (0, 0)])"
   ]
  },
  {
   "cell_type": "code",
   "execution_count": null,
   "metadata": {},
   "outputs": [],
   "source": []
  },
  {
   "cell_type": "code",
   "execution_count": null,
   "metadata": {},
   "outputs": [],
   "source": []
  },
  {
   "cell_type": "code",
   "execution_count": null,
   "metadata": {},
   "outputs": [],
   "source": []
  },
  {
   "cell_type": "code",
   "execution_count": null,
   "metadata": {},
   "outputs": [],
   "source": []
  },
  {
   "cell_type": "code",
   "execution_count": null,
   "metadata": {},
   "outputs": [],
   "source": []
  },
  {
   "cell_type": "code",
   "execution_count": null,
   "metadata": {},
   "outputs": [],
   "source": []
  },
  {
   "cell_type": "code",
   "execution_count": null,
   "metadata": {},
   "outputs": [],
   "source": []
  }
 ],
 "metadata": {
  "kernelspec": {
   "display_name": "Python 3",
   "language": "python",
   "name": "python3"
  },
  "language_info": {
   "codemirror_mode": {
    "name": "ipython",
    "version": 3
   },
   "file_extension": ".py",
   "mimetype": "text/x-python",
   "name": "python",
   "nbconvert_exporter": "python",
   "pygments_lexer": "ipython3",
   "version": "3.6.8"
  }
 },
 "nbformat": 4,
 "nbformat_minor": 2
}
